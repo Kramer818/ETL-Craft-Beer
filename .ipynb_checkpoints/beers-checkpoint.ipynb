{
 "cells": [
  {
   "cell_type": "code",
   "execution_count": 1,
   "metadata": {},
   "outputs": [],
   "source": [
    "import pandas as pd\n",
    "import psycopg2\n",
    "from sqlalchemy import create_engine\n",
    "#from info import username,password\n",
    "\n",
    "import matplotlib.pyplot as plt\n",
    "import numpy as np\n",
    "from flask import Flask, jsonify\n",
    "import datetime as dt\n",
    "\n",
    "# python SQL toolkit\n",
    "# Python SQL toolkit and Object Relational Mapper\n",
    "import sqlalchemy\n",
    "from sqlalchemy.ext.automap import automap_base\n",
    "from sqlalchemy.orm import Session\n",
    "from sqlalchemy import create_engine, func\n"
   ]
  },
  {
   "cell_type": "code",
   "execution_count": 2,
   "metadata": {},
   "outputs": [],
   "source": [
    "postgress_user='postgres'\n",
    "postgress_password='Bandit01!'"
   ]
  },
  {
   "cell_type": "code",
   "execution_count": 3,
   "metadata": {},
   "outputs": [],
   "source": [
    "# connection = psycopg2.connect(user=\"postgres\",\n",
    "#                                   password=\"Bandit01!\",\n",
    "#                                   host=\"localhost\",\n",
    "#                                   port=\"5432\",\n",
    "#                                   database=\"beer_db\")"
   ]
  },
  {
   "cell_type": "code",
   "execution_count": 4,
   "metadata": {},
   "outputs": [],
   "source": [
    "# connection = psycopg2.connect(user=\"postgres\",\n",
    "#                                   password=\"Bandit01!\",\n",
    "#                                   host=\"127.0.0.1\",\n",
    "#                                   port=\"5432\",\n",
    "#                                   database=\"beer_db\")"
   ]
  },
  {
   "cell_type": "code",
   "execution_count": 5,
   "metadata": {},
   "outputs": [],
   "source": [
    "rds_connection_string = f\"{postgress_user}:{postgress_password}@localhost:5432/beer_db\""
   ]
  },
  {
   "cell_type": "code",
   "execution_count": 6,
   "metadata": {},
   "outputs": [],
   "source": [
    "#rds_connection_string = f\"{username}:{password}@localhost:5432/beer_db\"\n",
    "engine = create_engine(f'postgresql://{rds_connection_string}')"
   ]
  },
  {
   "cell_type": "code",
   "execution_count": 7,
   "metadata": {},
   "outputs": [
    {
     "data": {
      "text/plain": [
       "['Breweries', 'Beers']"
      ]
     },
     "execution_count": 7,
     "metadata": {},
     "output_type": "execute_result"
    }
   ],
   "source": [
    "engine.table_names()"
   ]
  },
  {
   "cell_type": "code",
   "execution_count": 8,
   "metadata": {},
   "outputs": [
    {
     "data": {
      "text/html": [
       "<div>\n",
       "<style scoped>\n",
       "    .dataframe tbody tr th:only-of-type {\n",
       "        vertical-align: middle;\n",
       "    }\n",
       "\n",
       "    .dataframe tbody tr th {\n",
       "        vertical-align: top;\n",
       "    }\n",
       "\n",
       "    .dataframe thead th {\n",
       "        text-align: right;\n",
       "    }\n",
       "</style>\n",
       "<table border=\"1\" class=\"dataframe\">\n",
       "  <thead>\n",
       "    <tr style=\"text-align: right;\">\n",
       "      <th></th>\n",
       "      <th>brewery_id</th>\n",
       "      <th>name</th>\n",
       "      <th>city</th>\n",
       "      <th>state</th>\n",
       "    </tr>\n",
       "  </thead>\n",
       "  <tbody>\n",
       "    <tr>\n",
       "      <td>0</td>\n",
       "      <td>1</td>\n",
       "      <td>brewery1</td>\n",
       "      <td>orlando</td>\n",
       "      <td>FL</td>\n",
       "    </tr>\n",
       "    <tr>\n",
       "      <td>1</td>\n",
       "      <td>2</td>\n",
       "      <td>brewery2</td>\n",
       "      <td>Washington</td>\n",
       "      <td>DC</td>\n",
       "    </tr>\n",
       "    <tr>\n",
       "      <td>2</td>\n",
       "      <td>3</td>\n",
       "      <td>brewery3</td>\n",
       "      <td>Tampa</td>\n",
       "      <td>FL</td>\n",
       "    </tr>\n",
       "    <tr>\n",
       "      <td>3</td>\n",
       "      <td>4</td>\n",
       "      <td>brewery4</td>\n",
       "      <td>Boston</td>\n",
       "      <td>MS</td>\n",
       "    </tr>\n",
       "    <tr>\n",
       "      <td>4</td>\n",
       "      <td>5</td>\n",
       "      <td>brewery5</td>\n",
       "      <td>Breckenridge</td>\n",
       "      <td>CO</td>\n",
       "    </tr>\n",
       "  </tbody>\n",
       "</table>\n",
       "</div>"
      ],
      "text/plain": [
       "   brewery_id      name          city state\n",
       "0           1  brewery1       orlando    FL\n",
       "1           2  brewery2    Washington    DC\n",
       "2           3  brewery3         Tampa    FL\n",
       "3           4  brewery4        Boston    MS\n",
       "4           5  brewery5  Breckenridge    CO"
      ]
     },
     "execution_count": 8,
     "metadata": {},
     "output_type": "execute_result"
    }
   ],
   "source": [
    "pd.read_sql_query('select * from \"Breweries\"', con=engine).head(100)"
   ]
  },
  {
   "cell_type": "code",
   "execution_count": 9,
   "metadata": {},
   "outputs": [
    {
     "data": {
      "text/html": [
       "<div>\n",
       "<style scoped>\n",
       "    .dataframe tbody tr th:only-of-type {\n",
       "        vertical-align: middle;\n",
       "    }\n",
       "\n",
       "    .dataframe tbody tr th {\n",
       "        vertical-align: top;\n",
       "    }\n",
       "\n",
       "    .dataframe thead th {\n",
       "        text-align: right;\n",
       "    }\n",
       "</style>\n",
       "<table border=\"1\" class=\"dataframe\">\n",
       "  <thead>\n",
       "    <tr style=\"text-align: right;\">\n",
       "      <th></th>\n",
       "      <th>beer_id</th>\n",
       "      <th>beer_name</th>\n",
       "      <th>beer_style</th>\n",
       "      <th>brewery_id</th>\n",
       "      <th>ounces</th>\n",
       "      <th>abv</th>\n",
       "      <th>ibu</th>\n",
       "    </tr>\n",
       "  </thead>\n",
       "  <tbody>\n",
       "    <tr>\n",
       "      <td>0</td>\n",
       "      <td>1</td>\n",
       "      <td>test1</td>\n",
       "      <td>style1</td>\n",
       "      <td>1</td>\n",
       "      <td>1</td>\n",
       "      <td>None</td>\n",
       "      <td>10.0%</td>\n",
       "    </tr>\n",
       "    <tr>\n",
       "      <td>1</td>\n",
       "      <td>2</td>\n",
       "      <td>test2</td>\n",
       "      <td>style2</td>\n",
       "      <td>2</td>\n",
       "      <td>2</td>\n",
       "      <td>None</td>\n",
       "      <td>10.0%</td>\n",
       "    </tr>\n",
       "    <tr>\n",
       "      <td>2</td>\n",
       "      <td>3</td>\n",
       "      <td>test3</td>\n",
       "      <td>style3</td>\n",
       "      <td>3</td>\n",
       "      <td>3</td>\n",
       "      <td>None</td>\n",
       "      <td>10.0%</td>\n",
       "    </tr>\n",
       "    <tr>\n",
       "      <td>3</td>\n",
       "      <td>4</td>\n",
       "      <td>test4</td>\n",
       "      <td>style4</td>\n",
       "      <td>4</td>\n",
       "      <td>4</td>\n",
       "      <td>None</td>\n",
       "      <td>10.0%</td>\n",
       "    </tr>\n",
       "    <tr>\n",
       "      <td>4</td>\n",
       "      <td>5</td>\n",
       "      <td>test5</td>\n",
       "      <td>style5</td>\n",
       "      <td>5</td>\n",
       "      <td>5</td>\n",
       "      <td>None</td>\n",
       "      <td>10.0%</td>\n",
       "    </tr>\n",
       "  </tbody>\n",
       "</table>\n",
       "</div>"
      ],
      "text/plain": [
       "   beer_id beer_name beer_style  brewery_id  ounces   abv    ibu\n",
       "0        1     test1     style1           1       1  None  10.0%\n",
       "1        2     test2     style2           2       2  None  10.0%\n",
       "2        3     test3     style3           3       3  None  10.0%\n",
       "3        4     test4     style4           4       4  None  10.0%\n",
       "4        5     test5     style5           5       5  None  10.0%"
      ]
     },
     "execution_count": 9,
     "metadata": {},
     "output_type": "execute_result"
    }
   ],
   "source": [
    "pd.read_sql_query('select * from \"Beers\"', con=engine).head(100)"
   ]
  },
  {
   "cell_type": "code",
   "execution_count": 33,
   "metadata": {},
   "outputs": [
    {
     "data": {
      "text/html": [
       "<div>\n",
       "<style scoped>\n",
       "    .dataframe tbody tr th:only-of-type {\n",
       "        vertical-align: middle;\n",
       "    }\n",
       "\n",
       "    .dataframe tbody tr th {\n",
       "        vertical-align: top;\n",
       "    }\n",
       "\n",
       "    .dataframe thead th {\n",
       "        text-align: right;\n",
       "    }\n",
       "</style>\n",
       "<table border=\"1\" class=\"dataframe\">\n",
       "  <thead>\n",
       "    <tr style=\"text-align: right;\">\n",
       "      <th></th>\n",
       "      <th>brewery_id</th>\n",
       "      <th>name</th>\n",
       "      <th>city</th>\n",
       "      <th>state</th>\n",
       "    </tr>\n",
       "  </thead>\n",
       "  <tbody>\n",
       "    <tr>\n",
       "      <td>0</td>\n",
       "      <td>1</td>\n",
       "      <td>brewery1</td>\n",
       "      <td>orlando</td>\n",
       "      <td>FL</td>\n",
       "    </tr>\n",
       "    <tr>\n",
       "      <td>1</td>\n",
       "      <td>2</td>\n",
       "      <td>brewery2</td>\n",
       "      <td>Washington</td>\n",
       "      <td>DC</td>\n",
       "    </tr>\n",
       "    <tr>\n",
       "      <td>2</td>\n",
       "      <td>3</td>\n",
       "      <td>brewery3</td>\n",
       "      <td>Tampa</td>\n",
       "      <td>FL</td>\n",
       "    </tr>\n",
       "    <tr>\n",
       "      <td>3</td>\n",
       "      <td>4</td>\n",
       "      <td>brewery4</td>\n",
       "      <td>Boston</td>\n",
       "      <td>MS</td>\n",
       "    </tr>\n",
       "    <tr>\n",
       "      <td>4</td>\n",
       "      <td>5</td>\n",
       "      <td>brewery5</td>\n",
       "      <td>Breckenridge</td>\n",
       "      <td>CO</td>\n",
       "    </tr>\n",
       "  </tbody>\n",
       "</table>\n",
       "</div>"
      ],
      "text/plain": [
       "   brewery_id      name          city state\n",
       "0           1  brewery1       orlando    FL\n",
       "1           2  brewery2    Washington    DC\n",
       "2           3  brewery3         Tampa    FL\n",
       "3           4  brewery4        Boston    MS\n",
       "4           5  brewery5  Breckenridge    CO"
      ]
     },
     "execution_count": 33,
     "metadata": {},
     "output_type": "execute_result"
    }
   ],
   "source": [
    "Breweries_df=pd.read_sql_query('select * from \"Breweries\"', con=engine)\n",
    "Breweries_df=pd.DataFrame(Breweries_df)\n",
    "#Breweries_df=Breweries_df.set_index('brewery_id')\n",
    "Breweries_df"
   ]
  },
  {
   "cell_type": "code",
   "execution_count": 34,
   "metadata": {
    "scrolled": true
   },
   "outputs": [
    {
     "data": {
      "text/html": [
       "<div>\n",
       "<style scoped>\n",
       "    .dataframe tbody tr th:only-of-type {\n",
       "        vertical-align: middle;\n",
       "    }\n",
       "\n",
       "    .dataframe tbody tr th {\n",
       "        vertical-align: top;\n",
       "    }\n",
       "\n",
       "    .dataframe thead th {\n",
       "        text-align: right;\n",
       "    }\n",
       "</style>\n",
       "<table border=\"1\" class=\"dataframe\">\n",
       "  <thead>\n",
       "    <tr style=\"text-align: right;\">\n",
       "      <th></th>\n",
       "      <th>beer_id</th>\n",
       "      <th>beer_name</th>\n",
       "      <th>beer_style</th>\n",
       "      <th>brewery_id</th>\n",
       "      <th>ounces</th>\n",
       "      <th>abv</th>\n",
       "      <th>ibu</th>\n",
       "    </tr>\n",
       "  </thead>\n",
       "  <tbody>\n",
       "    <tr>\n",
       "      <td>0</td>\n",
       "      <td>1</td>\n",
       "      <td>test1</td>\n",
       "      <td>style1</td>\n",
       "      <td>1</td>\n",
       "      <td>1</td>\n",
       "      <td>None</td>\n",
       "      <td>10.0%</td>\n",
       "    </tr>\n",
       "    <tr>\n",
       "      <td>1</td>\n",
       "      <td>2</td>\n",
       "      <td>test2</td>\n",
       "      <td>style2</td>\n",
       "      <td>2</td>\n",
       "      <td>2</td>\n",
       "      <td>None</td>\n",
       "      <td>10.0%</td>\n",
       "    </tr>\n",
       "    <tr>\n",
       "      <td>2</td>\n",
       "      <td>3</td>\n",
       "      <td>test3</td>\n",
       "      <td>style3</td>\n",
       "      <td>3</td>\n",
       "      <td>3</td>\n",
       "      <td>None</td>\n",
       "      <td>10.0%</td>\n",
       "    </tr>\n",
       "    <tr>\n",
       "      <td>3</td>\n",
       "      <td>4</td>\n",
       "      <td>test4</td>\n",
       "      <td>style4</td>\n",
       "      <td>4</td>\n",
       "      <td>4</td>\n",
       "      <td>None</td>\n",
       "      <td>10.0%</td>\n",
       "    </tr>\n",
       "    <tr>\n",
       "      <td>4</td>\n",
       "      <td>5</td>\n",
       "      <td>test5</td>\n",
       "      <td>style5</td>\n",
       "      <td>5</td>\n",
       "      <td>5</td>\n",
       "      <td>None</td>\n",
       "      <td>10.0%</td>\n",
       "    </tr>\n",
       "  </tbody>\n",
       "</table>\n",
       "</div>"
      ],
      "text/plain": [
       "   beer_id beer_name beer_style  brewery_id  ounces   abv    ibu\n",
       "0        1     test1     style1           1       1  None  10.0%\n",
       "1        2     test2     style2           2       2  None  10.0%\n",
       "2        3     test3     style3           3       3  None  10.0%\n",
       "3        4     test4     style4           4       4  None  10.0%\n",
       "4        5     test5     style5           5       5  None  10.0%"
      ]
     },
     "execution_count": 34,
     "metadata": {},
     "output_type": "execute_result"
    }
   ],
   "source": [
    "Beers_df=pd.read_sql_query('select * from \"Beers\"', con=engine)\n",
    "Beers_df=pd.DataFrame(Beers_df)\n",
    "#Beers_df=Beers_df.set_index('beer_id')\n",
    "Beers_df"
   ]
  },
  {
   "cell_type": "code",
   "execution_count": 44,
   "metadata": {},
   "outputs": [
    {
     "data": {
      "text/html": [
       "<div>\n",
       "<style scoped>\n",
       "    .dataframe tbody tr th:only-of-type {\n",
       "        vertical-align: middle;\n",
       "    }\n",
       "\n",
       "    .dataframe tbody tr th {\n",
       "        vertical-align: top;\n",
       "    }\n",
       "\n",
       "    .dataframe thead th {\n",
       "        text-align: right;\n",
       "    }\n",
       "</style>\n",
       "<table border=\"1\" class=\"dataframe\">\n",
       "  <thead>\n",
       "    <tr style=\"text-align: right;\">\n",
       "      <th></th>\n",
       "      <th>brewery_id</th>\n",
       "      <th>name</th>\n",
       "      <th>city</th>\n",
       "      <th>state</th>\n",
       "      <th>beer_id</th>\n",
       "      <th>beer_name</th>\n",
       "      <th>beer_style</th>\n",
       "      <th>ounces</th>\n",
       "      <th>abv</th>\n",
       "      <th>ibu</th>\n",
       "    </tr>\n",
       "  </thead>\n",
       "  <tbody>\n",
       "    <tr>\n",
       "      <td>0</td>\n",
       "      <td>1</td>\n",
       "      <td>brewery1</td>\n",
       "      <td>orlando</td>\n",
       "      <td>FL</td>\n",
       "      <td>1</td>\n",
       "      <td>test1</td>\n",
       "      <td>style1</td>\n",
       "      <td>1</td>\n",
       "      <td>None</td>\n",
       "      <td>10.0%</td>\n",
       "    </tr>\n",
       "    <tr>\n",
       "      <td>1</td>\n",
       "      <td>2</td>\n",
       "      <td>brewery2</td>\n",
       "      <td>Washington</td>\n",
       "      <td>DC</td>\n",
       "      <td>2</td>\n",
       "      <td>test2</td>\n",
       "      <td>style2</td>\n",
       "      <td>2</td>\n",
       "      <td>None</td>\n",
       "      <td>10.0%</td>\n",
       "    </tr>\n",
       "    <tr>\n",
       "      <td>2</td>\n",
       "      <td>3</td>\n",
       "      <td>brewery3</td>\n",
       "      <td>Tampa</td>\n",
       "      <td>FL</td>\n",
       "      <td>3</td>\n",
       "      <td>test3</td>\n",
       "      <td>style3</td>\n",
       "      <td>3</td>\n",
       "      <td>None</td>\n",
       "      <td>10.0%</td>\n",
       "    </tr>\n",
       "    <tr>\n",
       "      <td>3</td>\n",
       "      <td>4</td>\n",
       "      <td>brewery4</td>\n",
       "      <td>Boston</td>\n",
       "      <td>MS</td>\n",
       "      <td>4</td>\n",
       "      <td>test4</td>\n",
       "      <td>style4</td>\n",
       "      <td>4</td>\n",
       "      <td>None</td>\n",
       "      <td>10.0%</td>\n",
       "    </tr>\n",
       "    <tr>\n",
       "      <td>4</td>\n",
       "      <td>5</td>\n",
       "      <td>brewery5</td>\n",
       "      <td>Breckenridge</td>\n",
       "      <td>CO</td>\n",
       "      <td>5</td>\n",
       "      <td>test5</td>\n",
       "      <td>style5</td>\n",
       "      <td>5</td>\n",
       "      <td>None</td>\n",
       "      <td>10.0%</td>\n",
       "    </tr>\n",
       "  </tbody>\n",
       "</table>\n",
       "</div>"
      ],
      "text/plain": [
       "   brewery_id      name          city state  beer_id beer_name beer_style  \\\n",
       "0           1  brewery1       orlando    FL        1     test1     style1   \n",
       "1           2  brewery2    Washington    DC        2     test2     style2   \n",
       "2           3  brewery3         Tampa    FL        3     test3     style3   \n",
       "3           4  brewery4        Boston    MS        4     test4     style4   \n",
       "4           5  brewery5  Breckenridge    CO        5     test5     style5   \n",
       "\n",
       "   ounces   abv    ibu  \n",
       "0       1  None  10.0%  \n",
       "1       2  None  10.0%  \n",
       "2       3  None  10.0%  \n",
       "3       4  None  10.0%  \n",
       "4       5  None  10.0%  "
      ]
     },
     "execution_count": 44,
     "metadata": {},
     "output_type": "execute_result"
    }
   ],
   "source": [
    "# combine dataframes\n",
    "Merged_df = pd.merge(Breweries_df, Beers_df)\n",
    "Merged_df"
   ]
  },
  {
   "cell_type": "markdown",
   "metadata": {},
   "source": [
    "### SQLALCEMY SETUP"
   ]
  },
  {
   "cell_type": "code",
   "execution_count": null,
   "metadata": {},
   "outputs": [],
   "source": []
  },
  {
   "cell_type": "code",
   "execution_count": 11,
   "metadata": {},
   "outputs": [],
   "source": [
    "# reflect an existing database into a new model\n",
    "Base = automap_base()\n",
    "# reflect the tables\n",
    "Base.prepare(engine, reflect=True)"
   ]
  },
  {
   "cell_type": "code",
   "execution_count": 12,
   "metadata": {},
   "outputs": [
    {
     "data": {
      "text/plain": [
       "['Breweries', 'Beers']"
      ]
     },
     "execution_count": 12,
     "metadata": {},
     "output_type": "execute_result"
    }
   ],
   "source": [
    "Base.classes.keys()"
   ]
  },
  {
   "cell_type": "code",
   "execution_count": 13,
   "metadata": {},
   "outputs": [],
   "source": [
    "Breweries =Base.classes.Breweries\n",
    "Beers = Base.classes.Beers\n",
    "session =Session(engine)"
   ]
  },
  {
   "cell_type": "code",
   "execution_count": 14,
   "metadata": {},
   "outputs": [
    {
     "data": {
      "text/plain": [
       "<sqlalchemy.orm.query.Query at 0x9bb9288>"
      ]
     },
     "execution_count": 14,
     "metadata": {},
     "output_type": "execute_result"
    }
   ],
   "source": [
    "session.query(Breweries)"
   ]
  },
  {
   "cell_type": "markdown",
   "metadata": {},
   "source": [
    "### QUERIES, FUNCTIONS, ROUTES"
   ]
  },
  {
   "cell_type": "code",
   "execution_count": 45,
   "metadata": {},
   "outputs": [],
   "source": [
    "Breweries_df=Breweries_df.set_index('brewery_id')\n",
    "Beers_df=Beers_df.set_index('beer_id')\n",
    "Merged_df=Merged_df.set_index('beer_id')"
   ]
  },
  {
   "cell_type": "code",
   "execution_count": null,
   "metadata": {},
   "outputs": [],
   "source": [
    "#df.loc[df['column_name'] == some_value]"
   ]
  },
  {
   "cell_type": "code",
   "execution_count": 76,
   "metadata": {},
   "outputs": [
    {
     "data": {
      "text/plain": [
       "brewery_id\n",
       "1    brewery1\n",
       "3    brewery3\n",
       "Name: name, dtype: object"
      ]
     },
     "execution_count": 76,
     "metadata": {},
     "output_type": "execute_result"
    }
   ],
   "source": [
    "Breweries_df.loc[Breweries_df['state']=='FL']"
   ]
  },
  {
   "cell_type": "code",
   "execution_count": 91,
   "metadata": {
    "scrolled": true
   },
   "outputs": [],
   "source": [
    "def getBreweries(State='None'):\n",
    "        if State=='None':\n",
    "            json_string=Breweries_df.to_json()\n",
    "        else: \n",
    "            State=State.upper()\n",
    "            json_string =Breweries_df.loc[Breweries_df['state']==State].to_json()\n",
    "        return(json_string)  \n",
    "    \n",
    "        \n",
    "    \n",
    "   "
   ]
  },
  {
   "cell_type": "code",
   "execution_count": 92,
   "metadata": {},
   "outputs": [
    {
     "data": {
      "text/plain": [
       "'{\"name\":{\"1\":\"brewery1\",\"3\":\"brewery3\"},\"city\":{\"1\":\"orlando\",\"3\":\"Tampa\"},\"state\":{\"1\":\"FL\",\"3\":\"FL\"}}'"
      ]
     },
     "execution_count": 92,
     "metadata": {},
     "output_type": "execute_result"
    }
   ],
   "source": [
    "getBreweries('fl')\n",
    "\n"
   ]
  },
  {
   "cell_type": "markdown",
   "metadata": {},
   "source": [
    "### FLASK"
   ]
  },
  {
   "cell_type": "code",
   "execution_count": null,
   "metadata": {},
   "outputs": [
    {
     "name": "stdout",
     "output_type": "stream",
     "text": [
      " * Serving Flask app \"__main__\" (lazy loading)\n",
      " * Environment: production\n",
      "   WARNING: This is a development server. Do not use it in a production deployment.\n",
      "   Use a production WSGI server instead.\n",
      " * Debug mode: off\n"
     ]
    },
    {
     "name": "stderr",
     "output_type": "stream",
     "text": [
      " * Running on http://127.0.0.1:5000/ (Press CTRL+C to quit)\n",
      "127.0.0.1 - - [24/Feb/2020 21:18:21] \"GET / HTTP/1.1\" 200 -\n",
      "127.0.0.1 - - [24/Feb/2020 21:18:34] \"GET /favicon.ico HTTP/1.1\" 404 -\n",
      "127.0.0.1 - - [24/Feb/2020 21:18:45] \"GET /api/v1.0/Breweries HTTP/1.1\" 200 -\n",
      "127.0.0.1 - - [24/Feb/2020 21:19:12] \"GET /api/v1.0/State/fl HTTP/1.1\" 200 -\n"
     ]
    }
   ],
   "source": [
    "app = Flask(__name__)\n",
    "\n",
    "@app.route(\"/\")\n",
    "def index():\n",
    "      routes='''\n",
    "      <p>\n",
    "      API end points for search breweries and beers.  \n",
    "      </p>\n",
    "      Routes:\n",
    "            <ul>\n",
    "            <li><a href=\"/api/v1.0/Breweries\">/api/v1.0/Breweries</a>\n",
    "            <li>/api/v1.0/Cities/&ltCityName&gt\n",
    "            <li><a href=\"/api/v1.0/State\">/api/v1.0/State</a>\n",
    "            <li>/api/v1.0/State/&ltstateCode&gt    \n",
    "            <li>/api/v1.0/Beers/&ltbyType&gt\n",
    "            </ul>'''   \n",
    "      return routes\n",
    "\n",
    "@app.route(\"/api/v1.0/Breweries\")\n",
    "def Brewereies():\n",
    "    return getBreweries()\n",
    "\n",
    "@app.route(\"/api/v1.0/Cities/<cityName>\")\n",
    "def Cities(cityName):\n",
    "    return cityName\n",
    "\n",
    "@app.route(\"/api/v1.0/State\")\n",
    "def State():\n",
    "    return \"get all breweries ordered by state\"\n",
    "\n",
    "@app.route(\"/api/v1.0/State/<stateCode>\")\n",
    "def breweriesByState(stateCode):\n",
    "    return getBreweries(stateCode)\n",
    "  \n",
    "    \n",
    "@app.route(\"/api/v1.0/Beers/<beerType>\")\n",
    "def beersByType(beerType):\n",
    "    return \"Returns JSON all Beers of a specific type\"  \n",
    "\n",
    "\n",
    "# 4. Define main behavior\n",
    "if __name__ == \"__main__\":\n",
    "       app.run()\n",
    "    #    app.run(debug=True)"
   ]
  },
  {
   "cell_type": "code",
   "execution_count": null,
   "metadata": {},
   "outputs": [],
   "source": []
  }
 ],
 "metadata": {
  "kernelspec": {
   "display_name": "Python 3",
   "language": "python",
   "name": "python3"
  },
  "language_info": {
   "codemirror_mode": {
    "name": "ipython",
    "version": 3
   },
   "file_extension": ".py",
   "mimetype": "text/x-python",
   "name": "python",
   "nbconvert_exporter": "python",
   "pygments_lexer": "ipython3",
   "version": "3.7.4"
  }
 },
 "nbformat": 4,
 "nbformat_minor": 2
}

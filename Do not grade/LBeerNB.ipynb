{
 "cells": [
  {
   "cell_type": "code",
   "execution_count": null,
   "metadata": {},
   "outputs": [],
   "source": [
    "%%writefile info.py\n",
    "username = \"\"\n",
    "password = \"\""
   ]
  },
  {
   "cell_type": "code",
   "execution_count": null,
   "metadata": {},
   "outputs": [],
   "source": [
    "# Import Pandas to read in .CSV's and clean the data.\n",
    "import pandas as pd\n",
    "\n",
    "# Import Create_Engine from SQLAlchemy to start a database connection.\n",
    "from sqlalchemy import create_engine\n",
    "\n",
    "from config import username, password"
   ]
  },
  {
   "cell_type": "code",
   "execution_count": null,
   "metadata": {},
   "outputs": [],
   "source": []
  },
  {
   "cell_type": "code",
   "execution_count": null,
   "metadata": {},
   "outputs": [],
   "source": [
    "# Read in beers.csv and create it as a data frame.\n",
    "beer_csv_file = \"Resources/beers.csv\"\n",
    "beers_df = pd.read_csv(beer_csv_file)\n",
    "\n",
    "renamed_beers_df = beers_df.rename(columns={\"id\": \"beer_id\", \"name\": \"beer_name\", \"style\": \"beer_style\"})\n",
    "renamed_beers_df.head()"
   ]
  },
  {
   "cell_type": "code",
   "execution_count": null,
   "metadata": {},
   "outputs": [],
   "source": [
    "# Create a cleaned up data frame for beers_df and apply percentage formatting to the 'abv' column.\n",
    "new_beers_df = renamed_beers_df[[\"beer_id\", \"beer_name\", \"beer_style\", \"abv\", \"brewery_id\", \"ounces\"]].copy()\n",
    "new_beers_df[\"abv\"] = new_beers_df[\"abv\"].apply('{:.0%}'.format)\n",
    "new_beers_df['beer_style'] = new_beers_df['beer_style'].fillna(\"\")\n",
    "new_beers_df.head()"
   ]
  },
  {
   "cell_type": "code",
   "execution_count": null,
   "metadata": {},
   "outputs": [],
   "source": [
    "# Read in breweries.csv and create it as a data frame.\n",
    "brewery_csv_file = \"Resources/breweries.csv\"\n",
    "breweries_df = pd.read_csv(brewery_csv_file)\n",
    "new_breweries_df = breweries_df.rename(columns={\"Unnamed: 0\": \"brewery_id\"})\n",
    "new_breweries_df.head()"
   ]
  },
  {
   "cell_type": "code",
   "execution_count": null,
   "metadata": {},
   "outputs": [],
   "source": [
    "rds_connection_string = f\"{username}:{password}@localhost:5432/beer_db\"\n",
    "engine = create_engine(f'postgresql://{rds_connection_string}')"
   ]
  },
  {
   "cell_type": "code",
   "execution_count": null,
   "metadata": {},
   "outputs": [],
   "source": [
    "new_breweries_df.to_sql(name='Breweries',  con=engine, if_exists='append', index=False)"
   ]
  },
  {
   "cell_type": "code",
   "execution_count": null,
   "metadata": {},
   "outputs": [],
   "source": [
    "new_beers_df.to_sql(name='Beers', con=engine, if_exists='append', index=False)"
   ]
  },
  {
   "cell_type": "code",
   "execution_count": null,
   "metadata": {},
   "outputs": [],
   "source": []
  }
 ],
 "metadata": {
  "kernelspec": {
   "display_name": "Python 3",
   "language": "python",
   "name": "python3"
  },
  "language_info": {
   "codemirror_mode": {
    "name": "ipython",
    "version": 3
   },
   "file_extension": ".py",
   "mimetype": "text/x-python",
   "name": "python",
   "nbconvert_exporter": "python",
   "pygments_lexer": "ipython3",
   "version": "3.6.9"
  }
 },
 "nbformat": 4,
 "nbformat_minor": 4
}
